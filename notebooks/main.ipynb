{
 "cells": [
  {
   "cell_type": "code",
   "execution_count": 75,
   "metadata": {},
   "outputs": [],
   "source": [
    "import pandas as pd\n",
    "import numpy as np\n",
    "import matplotlib.pyplot as plt \n",
    "import seaborn as sns\n",
    "import yaml \n",
    "import joblib"
   ]
  },
  {
   "cell_type": "code",
   "execution_count": 76,
   "metadata": {},
   "outputs": [
    {
     "name": "stdout",
     "output_type": "stream",
     "text": [
      "{'data_raw': '/myipond/src/datafix.csv', 'data_encoded': '/myipond/src/datafix_encoded.csv', 'data_hari': '/myipond/src/datatanya_fix.csv', 'data_gat': '/myipond/src/datafix_gabungan.csv', 'datetime_cols': ['tanggal'], 'float_columns': ['tekanan_udara'], 'int_cols': ['hujan', 'kelembabpan', 'temperature', 'tingkat_cahaya'], 'target': 'keterangan', 'predictors': ['hujan', 'kelembabpan', 'tekanan_udara', 'temperature', 'tingkat_cahaya']}\n"
     ]
    }
   ],
   "source": [
    "with open('/myipond/config/config.yaml', 'r') as l :\n",
    "    config = yaml.safe_load(l)\n",
    "print(config)"
   ]
  },
  {
   "cell_type": "markdown",
   "metadata": {},
   "source": [
    "# CLEANING"
   ]
  },
  {
   "cell_type": "code",
   "execution_count": 77,
   "metadata": {},
   "outputs": [
    {
     "data": {
      "text/html": [
       "<div>\n",
       "<style scoped>\n",
       "    .dataframe tbody tr th:only-of-type {\n",
       "        vertical-align: middle;\n",
       "    }\n",
       "\n",
       "    .dataframe tbody tr th {\n",
       "        vertical-align: top;\n",
       "    }\n",
       "\n",
       "    .dataframe thead th {\n",
       "        text-align: right;\n",
       "    }\n",
       "</style>\n",
       "<table border=\"1\" class=\"dataframe\">\n",
       "  <thead>\n",
       "    <tr style=\"text-align: right;\">\n",
       "      <th></th>\n",
       "      <th>tanggal</th>\n",
       "      <th>ph</th>\n",
       "      <th>temperature</th>\n",
       "      <th>turbinity</th>\n",
       "      <th>label</th>\n",
       "    </tr>\n",
       "  </thead>\n",
       "  <tbody>\n",
       "    <tr>\n",
       "      <th>0</th>\n",
       "      <td>2023-06-24 19:32:06</td>\n",
       "      <td>6.54</td>\n",
       "      <td>26.94</td>\n",
       "      <td>3</td>\n",
       "      <td>bersih</td>\n",
       "    </tr>\n",
       "    <tr>\n",
       "      <th>1</th>\n",
       "      <td>2023-06-24 19:32:12</td>\n",
       "      <td>6.59</td>\n",
       "      <td>26.94</td>\n",
       "      <td>3</td>\n",
       "      <td>bersih</td>\n",
       "    </tr>\n",
       "    <tr>\n",
       "      <th>2</th>\n",
       "      <td>2023-06-24 19:32:17</td>\n",
       "      <td>6.41</td>\n",
       "      <td>26.94</td>\n",
       "      <td>3</td>\n",
       "      <td>bersih</td>\n",
       "    </tr>\n",
       "    <tr>\n",
       "      <th>3</th>\n",
       "      <td>2023-06-24 19:32:23</td>\n",
       "      <td>6.51</td>\n",
       "      <td>26.94</td>\n",
       "      <td>3</td>\n",
       "      <td>bersih</td>\n",
       "    </tr>\n",
       "    <tr>\n",
       "      <th>4</th>\n",
       "      <td>2023-06-24 19:32:29</td>\n",
       "      <td>6.40</td>\n",
       "      <td>26.94</td>\n",
       "      <td>3</td>\n",
       "      <td>bersih</td>\n",
       "    </tr>\n",
       "    <tr>\n",
       "      <th>...</th>\n",
       "      <td>...</td>\n",
       "      <td>...</td>\n",
       "      <td>...</td>\n",
       "      <td>...</td>\n",
       "      <td>...</td>\n",
       "    </tr>\n",
       "    <tr>\n",
       "      <th>2415</th>\n",
       "      <td>2023-06-09 00:36:16</td>\n",
       "      <td>6.24</td>\n",
       "      <td>25.12</td>\n",
       "      <td>6</td>\n",
       "      <td>bersih</td>\n",
       "    </tr>\n",
       "    <tr>\n",
       "      <th>2416</th>\n",
       "      <td>2023-06-10 09:04:36</td>\n",
       "      <td>6.13</td>\n",
       "      <td>24.50</td>\n",
       "      <td>6</td>\n",
       "      <td>bersih</td>\n",
       "    </tr>\n",
       "    <tr>\n",
       "      <th>2417</th>\n",
       "      <td>2023-06-10 14:25:10</td>\n",
       "      <td>6.05</td>\n",
       "      <td>26.31</td>\n",
       "      <td>5</td>\n",
       "      <td>bersih</td>\n",
       "    </tr>\n",
       "    <tr>\n",
       "      <th>2418</th>\n",
       "      <td>2023-06-10 07:17:43</td>\n",
       "      <td>6.10</td>\n",
       "      <td>24.31</td>\n",
       "      <td>6</td>\n",
       "      <td>bersih</td>\n",
       "    </tr>\n",
       "    <tr>\n",
       "      <th>2419</th>\n",
       "      <td>2023-06-10 08:44:36</td>\n",
       "      <td>6.00</td>\n",
       "      <td>24.44</td>\n",
       "      <td>6</td>\n",
       "      <td>bersih</td>\n",
       "    </tr>\n",
       "  </tbody>\n",
       "</table>\n",
       "<p>2420 rows × 5 columns</p>\n",
       "</div>"
      ],
      "text/plain": [
       "                  tanggal    ph  temperature  turbinity   label\n",
       "0     2023-06-24 19:32:06  6.54        26.94          3  bersih\n",
       "1     2023-06-24 19:32:12  6.59        26.94          3  bersih\n",
       "2     2023-06-24 19:32:17  6.41        26.94          3  bersih\n",
       "3     2023-06-24 19:32:23  6.51        26.94          3  bersih\n",
       "4     2023-06-24 19:32:29  6.40        26.94          3  bersih\n",
       "...                   ...   ...          ...        ...     ...\n",
       "2415  2023-06-09 00:36:16  6.24        25.12          6  bersih\n",
       "2416  2023-06-10 09:04:36  6.13        24.50          6  bersih\n",
       "2417  2023-06-10 14:25:10  6.05        26.31          5  bersih\n",
       "2418  2023-06-10 07:17:43  6.10        24.31          6  bersih\n",
       "2419  2023-06-10 08:44:36  6.00        24.44          6  bersih\n",
       "\n",
       "[2420 rows x 5 columns]"
      ]
     },
     "execution_count": 77,
     "metadata": {},
     "output_type": "execute_result"
    }
   ],
   "source": [
    "data = pd.read_csv(config['data_gat'])\n",
    "data"
   ]
  },
  {
   "cell_type": "code",
   "execution_count": 78,
   "metadata": {},
   "outputs": [
    {
     "data": {
      "text/html": [
       "<div>\n",
       "<style scoped>\n",
       "    .dataframe tbody tr th:only-of-type {\n",
       "        vertical-align: middle;\n",
       "    }\n",
       "\n",
       "    .dataframe tbody tr th {\n",
       "        vertical-align: top;\n",
       "    }\n",
       "\n",
       "    .dataframe thead th {\n",
       "        text-align: right;\n",
       "    }\n",
       "</style>\n",
       "<table border=\"1\" class=\"dataframe\">\n",
       "  <thead>\n",
       "    <tr style=\"text-align: right;\">\n",
       "      <th></th>\n",
       "      <th>tanggal</th>\n",
       "      <th>ph</th>\n",
       "      <th>temperature</th>\n",
       "      <th>turbinity</th>\n",
       "      <th>label</th>\n",
       "    </tr>\n",
       "  </thead>\n",
       "  <tbody>\n",
       "    <tr>\n",
       "      <th>0</th>\n",
       "      <td>2023-06-24 19:32:06</td>\n",
       "      <td>6.54</td>\n",
       "      <td>26.94</td>\n",
       "      <td>3</td>\n",
       "      <td>bersih</td>\n",
       "    </tr>\n",
       "    <tr>\n",
       "      <th>1</th>\n",
       "      <td>2023-06-24 19:32:12</td>\n",
       "      <td>6.59</td>\n",
       "      <td>26.94</td>\n",
       "      <td>3</td>\n",
       "      <td>bersih</td>\n",
       "    </tr>\n",
       "    <tr>\n",
       "      <th>2</th>\n",
       "      <td>2023-06-24 19:32:17</td>\n",
       "      <td>6.41</td>\n",
       "      <td>26.94</td>\n",
       "      <td>3</td>\n",
       "      <td>bersih</td>\n",
       "    </tr>\n",
       "    <tr>\n",
       "      <th>3</th>\n",
       "      <td>2023-06-24 19:32:23</td>\n",
       "      <td>6.51</td>\n",
       "      <td>26.94</td>\n",
       "      <td>3</td>\n",
       "      <td>bersih</td>\n",
       "    </tr>\n",
       "    <tr>\n",
       "      <th>4</th>\n",
       "      <td>2023-06-24 19:32:29</td>\n",
       "      <td>6.40</td>\n",
       "      <td>26.94</td>\n",
       "      <td>3</td>\n",
       "      <td>bersih</td>\n",
       "    </tr>\n",
       "    <tr>\n",
       "      <th>...</th>\n",
       "      <td>...</td>\n",
       "      <td>...</td>\n",
       "      <td>...</td>\n",
       "      <td>...</td>\n",
       "      <td>...</td>\n",
       "    </tr>\n",
       "    <tr>\n",
       "      <th>2415</th>\n",
       "      <td>2023-06-09 00:36:16</td>\n",
       "      <td>6.24</td>\n",
       "      <td>25.12</td>\n",
       "      <td>6</td>\n",
       "      <td>bersih</td>\n",
       "    </tr>\n",
       "    <tr>\n",
       "      <th>2416</th>\n",
       "      <td>2023-06-10 09:04:36</td>\n",
       "      <td>6.13</td>\n",
       "      <td>24.50</td>\n",
       "      <td>6</td>\n",
       "      <td>bersih</td>\n",
       "    </tr>\n",
       "    <tr>\n",
       "      <th>2417</th>\n",
       "      <td>2023-06-10 14:25:10</td>\n",
       "      <td>6.05</td>\n",
       "      <td>26.31</td>\n",
       "      <td>5</td>\n",
       "      <td>bersih</td>\n",
       "    </tr>\n",
       "    <tr>\n",
       "      <th>2418</th>\n",
       "      <td>2023-06-10 07:17:43</td>\n",
       "      <td>6.10</td>\n",
       "      <td>24.31</td>\n",
       "      <td>6</td>\n",
       "      <td>bersih</td>\n",
       "    </tr>\n",
       "    <tr>\n",
       "      <th>2419</th>\n",
       "      <td>2023-06-10 08:44:36</td>\n",
       "      <td>6.00</td>\n",
       "      <td>24.44</td>\n",
       "      <td>6</td>\n",
       "      <td>bersih</td>\n",
       "    </tr>\n",
       "  </tbody>\n",
       "</table>\n",
       "<p>2420 rows × 5 columns</p>\n",
       "</div>"
      ],
      "text/plain": [
       "                  tanggal    ph  temperature  turbinity   label\n",
       "0     2023-06-24 19:32:06  6.54        26.94          3  bersih\n",
       "1     2023-06-24 19:32:12  6.59        26.94          3  bersih\n",
       "2     2023-06-24 19:32:17  6.41        26.94          3  bersih\n",
       "3     2023-06-24 19:32:23  6.51        26.94          3  bersih\n",
       "4     2023-06-24 19:32:29  6.40        26.94          3  bersih\n",
       "...                   ...   ...          ...        ...     ...\n",
       "2415  2023-06-09 00:36:16  6.24        25.12          6  bersih\n",
       "2416  2023-06-10 09:04:36  6.13        24.50          6  bersih\n",
       "2417  2023-06-10 14:25:10  6.05        26.31          5  bersih\n",
       "2418  2023-06-10 07:17:43  6.10        24.31          6  bersih\n",
       "2419  2023-06-10 08:44:36  6.00        24.44          6  bersih\n",
       "\n",
       "[2420 rows x 5 columns]"
      ]
     },
     "execution_count": 78,
     "metadata": {},
     "output_type": "execute_result"
    }
   ],
   "source": [
    "data = data.rename(columns={'encoded':'keterangan'})\n",
    "data"
   ]
  },
  {
   "cell_type": "code",
   "execution_count": 79,
   "metadata": {},
   "outputs": [
    {
     "data": {
      "text/plain": [
       "tanggal        0\n",
       "ph             0\n",
       "temperature    0\n",
       "turbinity      0\n",
       "label          0\n",
       "dtype: int64"
      ]
     },
     "execution_count": 79,
     "metadata": {},
     "output_type": "execute_result"
    }
   ],
   "source": [
    "data.isnull().sum()"
   ]
  },
  {
   "cell_type": "code",
   "execution_count": 80,
   "metadata": {},
   "outputs": [
    {
     "data": {
      "text/plain": [
       "tanggal         object\n",
       "ph             float64\n",
       "temperature    float64\n",
       "turbinity        int64\n",
       "label           object\n",
       "dtype: object"
      ]
     },
     "execution_count": 80,
     "metadata": {},
     "output_type": "execute_result"
    }
   ],
   "source": [
    "data.dtypes"
   ]
  },
  {
   "cell_type": "code",
   "execution_count": 81,
   "metadata": {},
   "outputs": [],
   "source": [
    "data['tanggal'] = pd.to_datetime(data['tanggal'])"
   ]
  },
  {
   "cell_type": "code",
   "execution_count": 82,
   "metadata": {},
   "outputs": [
    {
     "data": {
      "text/html": [
       "<div>\n",
       "<style scoped>\n",
       "    .dataframe tbody tr th:only-of-type {\n",
       "        vertical-align: middle;\n",
       "    }\n",
       "\n",
       "    .dataframe tbody tr th {\n",
       "        vertical-align: top;\n",
       "    }\n",
       "\n",
       "    .dataframe thead th {\n",
       "        text-align: right;\n",
       "    }\n",
       "</style>\n",
       "<table border=\"1\" class=\"dataframe\">\n",
       "  <thead>\n",
       "    <tr style=\"text-align: right;\">\n",
       "      <th></th>\n",
       "      <th>ph</th>\n",
       "      <th>temperature</th>\n",
       "      <th>turbinity</th>\n",
       "      <th>label</th>\n",
       "    </tr>\n",
       "  </thead>\n",
       "  <tbody>\n",
       "    <tr>\n",
       "      <th>0</th>\n",
       "      <td>6.54</td>\n",
       "      <td>26.94</td>\n",
       "      <td>3</td>\n",
       "      <td>bersih</td>\n",
       "    </tr>\n",
       "    <tr>\n",
       "      <th>1</th>\n",
       "      <td>6.59</td>\n",
       "      <td>26.94</td>\n",
       "      <td>3</td>\n",
       "      <td>bersih</td>\n",
       "    </tr>\n",
       "    <tr>\n",
       "      <th>2</th>\n",
       "      <td>6.41</td>\n",
       "      <td>26.94</td>\n",
       "      <td>3</td>\n",
       "      <td>bersih</td>\n",
       "    </tr>\n",
       "    <tr>\n",
       "      <th>3</th>\n",
       "      <td>6.51</td>\n",
       "      <td>26.94</td>\n",
       "      <td>3</td>\n",
       "      <td>bersih</td>\n",
       "    </tr>\n",
       "    <tr>\n",
       "      <th>4</th>\n",
       "      <td>6.40</td>\n",
       "      <td>26.94</td>\n",
       "      <td>3</td>\n",
       "      <td>bersih</td>\n",
       "    </tr>\n",
       "    <tr>\n",
       "      <th>...</th>\n",
       "      <td>...</td>\n",
       "      <td>...</td>\n",
       "      <td>...</td>\n",
       "      <td>...</td>\n",
       "    </tr>\n",
       "    <tr>\n",
       "      <th>2415</th>\n",
       "      <td>6.24</td>\n",
       "      <td>25.12</td>\n",
       "      <td>6</td>\n",
       "      <td>bersih</td>\n",
       "    </tr>\n",
       "    <tr>\n",
       "      <th>2416</th>\n",
       "      <td>6.13</td>\n",
       "      <td>24.50</td>\n",
       "      <td>6</td>\n",
       "      <td>bersih</td>\n",
       "    </tr>\n",
       "    <tr>\n",
       "      <th>2417</th>\n",
       "      <td>6.05</td>\n",
       "      <td>26.31</td>\n",
       "      <td>5</td>\n",
       "      <td>bersih</td>\n",
       "    </tr>\n",
       "    <tr>\n",
       "      <th>2418</th>\n",
       "      <td>6.10</td>\n",
       "      <td>24.31</td>\n",
       "      <td>6</td>\n",
       "      <td>bersih</td>\n",
       "    </tr>\n",
       "    <tr>\n",
       "      <th>2419</th>\n",
       "      <td>6.00</td>\n",
       "      <td>24.44</td>\n",
       "      <td>6</td>\n",
       "      <td>bersih</td>\n",
       "    </tr>\n",
       "  </tbody>\n",
       "</table>\n",
       "<p>2420 rows × 4 columns</p>\n",
       "</div>"
      ],
      "text/plain": [
       "        ph  temperature  turbinity   label\n",
       "0     6.54        26.94          3  bersih\n",
       "1     6.59        26.94          3  bersih\n",
       "2     6.41        26.94          3  bersih\n",
       "3     6.51        26.94          3  bersih\n",
       "4     6.40        26.94          3  bersih\n",
       "...    ...          ...        ...     ...\n",
       "2415  6.24        25.12          6  bersih\n",
       "2416  6.13        24.50          6  bersih\n",
       "2417  6.05        26.31          5  bersih\n",
       "2418  6.10        24.31          6  bersih\n",
       "2419  6.00        24.44          6  bersih\n",
       "\n",
       "[2420 rows x 4 columns]"
      ]
     },
     "execution_count": 82,
     "metadata": {},
     "output_type": "execute_result"
    }
   ],
   "source": [
    "data = data.drop(['tanggal'],axis=1)\n",
    "data"
   ]
  },
  {
   "cell_type": "code",
   "execution_count": 83,
   "metadata": {},
   "outputs": [
    {
     "data": {
      "text/html": [
       "<div>\n",
       "<style scoped>\n",
       "    .dataframe tbody tr th:only-of-type {\n",
       "        vertical-align: middle;\n",
       "    }\n",
       "\n",
       "    .dataframe tbody tr th {\n",
       "        vertical-align: top;\n",
       "    }\n",
       "\n",
       "    .dataframe thead th {\n",
       "        text-align: right;\n",
       "    }\n",
       "</style>\n",
       "<table border=\"1\" class=\"dataframe\">\n",
       "  <thead>\n",
       "    <tr style=\"text-align: right;\">\n",
       "      <th></th>\n",
       "      <th>ph</th>\n",
       "      <th>temperature</th>\n",
       "      <th>turbinity</th>\n",
       "      <th>label</th>\n",
       "    </tr>\n",
       "  </thead>\n",
       "  <tbody>\n",
       "    <tr>\n",
       "      <th>0</th>\n",
       "      <td>6.54</td>\n",
       "      <td>26.94</td>\n",
       "      <td>3</td>\n",
       "      <td>bersih</td>\n",
       "    </tr>\n",
       "    <tr>\n",
       "      <th>1</th>\n",
       "      <td>6.59</td>\n",
       "      <td>26.94</td>\n",
       "      <td>3</td>\n",
       "      <td>bersih</td>\n",
       "    </tr>\n",
       "    <tr>\n",
       "      <th>2</th>\n",
       "      <td>6.41</td>\n",
       "      <td>26.94</td>\n",
       "      <td>3</td>\n",
       "      <td>bersih</td>\n",
       "    </tr>\n",
       "    <tr>\n",
       "      <th>3</th>\n",
       "      <td>6.51</td>\n",
       "      <td>26.94</td>\n",
       "      <td>3</td>\n",
       "      <td>bersih</td>\n",
       "    </tr>\n",
       "    <tr>\n",
       "      <th>4</th>\n",
       "      <td>6.40</td>\n",
       "      <td>26.94</td>\n",
       "      <td>3</td>\n",
       "      <td>bersih</td>\n",
       "    </tr>\n",
       "    <tr>\n",
       "      <th>...</th>\n",
       "      <td>...</td>\n",
       "      <td>...</td>\n",
       "      <td>...</td>\n",
       "      <td>...</td>\n",
       "    </tr>\n",
       "    <tr>\n",
       "      <th>2415</th>\n",
       "      <td>6.24</td>\n",
       "      <td>25.12</td>\n",
       "      <td>6</td>\n",
       "      <td>bersih</td>\n",
       "    </tr>\n",
       "    <tr>\n",
       "      <th>2416</th>\n",
       "      <td>6.13</td>\n",
       "      <td>24.50</td>\n",
       "      <td>6</td>\n",
       "      <td>bersih</td>\n",
       "    </tr>\n",
       "    <tr>\n",
       "      <th>2417</th>\n",
       "      <td>6.05</td>\n",
       "      <td>26.31</td>\n",
       "      <td>5</td>\n",
       "      <td>bersih</td>\n",
       "    </tr>\n",
       "    <tr>\n",
       "      <th>2418</th>\n",
       "      <td>6.10</td>\n",
       "      <td>24.31</td>\n",
       "      <td>6</td>\n",
       "      <td>bersih</td>\n",
       "    </tr>\n",
       "    <tr>\n",
       "      <th>2419</th>\n",
       "      <td>6.00</td>\n",
       "      <td>24.44</td>\n",
       "      <td>6</td>\n",
       "      <td>bersih</td>\n",
       "    </tr>\n",
       "  </tbody>\n",
       "</table>\n",
       "<p>2411 rows × 4 columns</p>\n",
       "</div>"
      ],
      "text/plain": [
       "        ph  temperature  turbinity   label\n",
       "0     6.54        26.94          3  bersih\n",
       "1     6.59        26.94          3  bersih\n",
       "2     6.41        26.94          3  bersih\n",
       "3     6.51        26.94          3  bersih\n",
       "4     6.40        26.94          3  bersih\n",
       "...    ...          ...        ...     ...\n",
       "2415  6.24        25.12          6  bersih\n",
       "2416  6.13        24.50          6  bersih\n",
       "2417  6.05        26.31          5  bersih\n",
       "2418  6.10        24.31          6  bersih\n",
       "2419  6.00        24.44          6  bersih\n",
       "\n",
       "[2411 rows x 4 columns]"
      ]
     },
     "execution_count": 83,
     "metadata": {},
     "output_type": "execute_result"
    }
   ],
   "source": [
    "data = data[~((data['ph'] < 6) | (data['ph'] > 8.5))]\n",
    "data"
   ]
  },
  {
   "cell_type": "code",
   "execution_count": 84,
   "metadata": {},
   "outputs": [
    {
     "name": "stderr",
     "output_type": "stream",
     "text": [
      "C:\\Users\\USER\\AppData\\Local\\Temp\\ipykernel_10288\\3074870129.py:3: SettingWithCopyWarning: \n",
      "A value is trying to be set on a copy of a slice from a DataFrame.\n",
      "Try using .loc[row_indexer,col_indexer] = value instead\n",
      "\n",
      "See the caveats in the documentation: https://pandas.pydata.org/pandas-docs/stable/user_guide/indexing.html#returning-a-view-versus-a-copy\n",
      "  data['label'] = le.fit_transform(data['label'])\n"
     ]
    },
    {
     "data": {
      "text/html": [
       "<div>\n",
       "<style scoped>\n",
       "    .dataframe tbody tr th:only-of-type {\n",
       "        vertical-align: middle;\n",
       "    }\n",
       "\n",
       "    .dataframe tbody tr th {\n",
       "        vertical-align: top;\n",
       "    }\n",
       "\n",
       "    .dataframe thead th {\n",
       "        text-align: right;\n",
       "    }\n",
       "</style>\n",
       "<table border=\"1\" class=\"dataframe\">\n",
       "  <thead>\n",
       "    <tr style=\"text-align: right;\">\n",
       "      <th></th>\n",
       "      <th>ph</th>\n",
       "      <th>temperature</th>\n",
       "      <th>turbinity</th>\n",
       "      <th>label</th>\n",
       "    </tr>\n",
       "  </thead>\n",
       "  <tbody>\n",
       "    <tr>\n",
       "      <th>0</th>\n",
       "      <td>6.54</td>\n",
       "      <td>26.94</td>\n",
       "      <td>3</td>\n",
       "      <td>0</td>\n",
       "    </tr>\n",
       "    <tr>\n",
       "      <th>1</th>\n",
       "      <td>6.59</td>\n",
       "      <td>26.94</td>\n",
       "      <td>3</td>\n",
       "      <td>0</td>\n",
       "    </tr>\n",
       "    <tr>\n",
       "      <th>2</th>\n",
       "      <td>6.41</td>\n",
       "      <td>26.94</td>\n",
       "      <td>3</td>\n",
       "      <td>0</td>\n",
       "    </tr>\n",
       "    <tr>\n",
       "      <th>3</th>\n",
       "      <td>6.51</td>\n",
       "      <td>26.94</td>\n",
       "      <td>3</td>\n",
       "      <td>0</td>\n",
       "    </tr>\n",
       "    <tr>\n",
       "      <th>4</th>\n",
       "      <td>6.40</td>\n",
       "      <td>26.94</td>\n",
       "      <td>3</td>\n",
       "      <td>0</td>\n",
       "    </tr>\n",
       "    <tr>\n",
       "      <th>...</th>\n",
       "      <td>...</td>\n",
       "      <td>...</td>\n",
       "      <td>...</td>\n",
       "      <td>...</td>\n",
       "    </tr>\n",
       "    <tr>\n",
       "      <th>2415</th>\n",
       "      <td>6.24</td>\n",
       "      <td>25.12</td>\n",
       "      <td>6</td>\n",
       "      <td>0</td>\n",
       "    </tr>\n",
       "    <tr>\n",
       "      <th>2416</th>\n",
       "      <td>6.13</td>\n",
       "      <td>24.50</td>\n",
       "      <td>6</td>\n",
       "      <td>0</td>\n",
       "    </tr>\n",
       "    <tr>\n",
       "      <th>2417</th>\n",
       "      <td>6.05</td>\n",
       "      <td>26.31</td>\n",
       "      <td>5</td>\n",
       "      <td>0</td>\n",
       "    </tr>\n",
       "    <tr>\n",
       "      <th>2418</th>\n",
       "      <td>6.10</td>\n",
       "      <td>24.31</td>\n",
       "      <td>6</td>\n",
       "      <td>0</td>\n",
       "    </tr>\n",
       "    <tr>\n",
       "      <th>2419</th>\n",
       "      <td>6.00</td>\n",
       "      <td>24.44</td>\n",
       "      <td>6</td>\n",
       "      <td>0</td>\n",
       "    </tr>\n",
       "  </tbody>\n",
       "</table>\n",
       "<p>2411 rows × 4 columns</p>\n",
       "</div>"
      ],
      "text/plain": [
       "        ph  temperature  turbinity  label\n",
       "0     6.54        26.94          3      0\n",
       "1     6.59        26.94          3      0\n",
       "2     6.41        26.94          3      0\n",
       "3     6.51        26.94          3      0\n",
       "4     6.40        26.94          3      0\n",
       "...    ...          ...        ...    ...\n",
       "2415  6.24        25.12          6      0\n",
       "2416  6.13        24.50          6      0\n",
       "2417  6.05        26.31          5      0\n",
       "2418  6.10        24.31          6      0\n",
       "2419  6.00        24.44          6      0\n",
       "\n",
       "[2411 rows x 4 columns]"
      ]
     },
     "execution_count": 84,
     "metadata": {},
     "output_type": "execute_result"
    }
   ],
   "source": [
    "from sklearn.preprocessing import LabelEncoder\n",
    "le = LabelEncoder()\n",
    "data['label'] = le.fit_transform(data['label'])\n",
    "data"
   ]
  },
  {
   "cell_type": "code",
   "execution_count": 85,
   "metadata": {},
   "outputs": [
    {
     "data": {
      "text/plain": [
       "<Axes: >"
      ]
     },
     "execution_count": 85,
     "metadata": {},
     "output_type": "execute_result"
    },
    {
     "data": {
      "image/png": "[encoded data removed]",
      "text/plain": [
       "<Figure size 640x480 with 2 Axes>"
      ]
     },
     "metadata": {},
     "output_type": "display_data"
    }
   ],
   "source": [
    "corr = data.corr()\n",
    "sns.heatmap(corr,annot=True)"
   ]
  },
  {
   "cell_type": "code",
   "execution_count": 86,
   "metadata": {},
   "outputs": [
    {
     "data": {
      "image/png": "[encoded data removed]",
      "text/plain": [
       "<Figure size 640x480 with 1 Axes>"
      ]
     },
     "metadata": {},
     "output_type": "display_data"
    },
    {
     "data": {
      "image/png": "[encoded data removed]",
      "text/plain": [
       "<Figure size 640x480 with 1 Axes>"
      ]
     },
     "metadata": {},
     "output_type": "display_data"
    },
    {
     "data": {
      "image/png": "[encoded data removed]",
      "text/plain": [
       "<Figure size 640x480 with 1 Axes>"
      ]
     },
     "metadata": {},
     "output_type": "display_data"
    },
    {
     "data": {
      "image/png": "[encoded data removed]",
      "text/plain": [
       "<Figure size 640x480 with 1 Axes>"
      ]
     },
     "metadata": {},
     "output_type": "display_data"
    }
   ],
   "source": [
    "kolom = ['ph','temperature','turbinity','label']\n",
    "\n",
    "for i in kolom:\n",
    "    plt.boxplot(data[i])\n",
    "    plt.title(\"Boxplot \" + i)\n",
    "    plt.show()"
   ]
  },
  {
   "cell_type": "code",
   "execution_count": 87,
   "metadata": {},
   "outputs": [
    {
     "data": {
      "text/html": [
       "<div>\n",
       "<style scoped>\n",
       "    .dataframe tbody tr th:only-of-type {\n",
       "        vertical-align: middle;\n",
       "    }\n",
       "\n",
       "    .dataframe tbody tr th {\n",
       "        vertical-align: top;\n",
       "    }\n",
       "\n",
       "    .dataframe thead th {\n",
       "        text-align: right;\n",
       "    }\n",
       "</style>\n",
       "<table border=\"1\" class=\"dataframe\">\n",
       "  <thead>\n",
       "    <tr style=\"text-align: right;\">\n",
       "      <th></th>\n",
       "      <th>ph</th>\n",
       "      <th>temperature</th>\n",
       "      <th>turbinity</th>\n",
       "      <th>label</th>\n",
       "    </tr>\n",
       "  </thead>\n",
       "  <tbody>\n",
       "    <tr>\n",
       "      <th>0</th>\n",
       "      <td>6.54</td>\n",
       "      <td>26.94</td>\n",
       "      <td>3</td>\n",
       "      <td>0</td>\n",
       "    </tr>\n",
       "    <tr>\n",
       "      <th>1</th>\n",
       "      <td>6.59</td>\n",
       "      <td>26.94</td>\n",
       "      <td>3</td>\n",
       "      <td>0</td>\n",
       "    </tr>\n",
       "    <tr>\n",
       "      <th>2</th>\n",
       "      <td>6.41</td>\n",
       "      <td>26.94</td>\n",
       "      <td>3</td>\n",
       "      <td>0</td>\n",
       "    </tr>\n",
       "    <tr>\n",
       "      <th>3</th>\n",
       "      <td>6.51</td>\n",
       "      <td>26.94</td>\n",
       "      <td>3</td>\n",
       "      <td>0</td>\n",
       "    </tr>\n",
       "    <tr>\n",
       "      <th>4</th>\n",
       "      <td>6.40</td>\n",
       "      <td>26.94</td>\n",
       "      <td>3</td>\n",
       "      <td>0</td>\n",
       "    </tr>\n",
       "    <tr>\n",
       "      <th>...</th>\n",
       "      <td>...</td>\n",
       "      <td>...</td>\n",
       "      <td>...</td>\n",
       "      <td>...</td>\n",
       "    </tr>\n",
       "    <tr>\n",
       "      <th>2410</th>\n",
       "      <td>6.08</td>\n",
       "      <td>25.88</td>\n",
       "      <td>6</td>\n",
       "      <td>0</td>\n",
       "    </tr>\n",
       "    <tr>\n",
       "      <th>2412</th>\n",
       "      <td>6.02</td>\n",
       "      <td>24.75</td>\n",
       "      <td>6</td>\n",
       "      <td>0</td>\n",
       "    </tr>\n",
       "    <tr>\n",
       "      <th>2415</th>\n",
       "      <td>6.24</td>\n",
       "      <td>25.12</td>\n",
       "      <td>6</td>\n",
       "      <td>0</td>\n",
       "    </tr>\n",
       "    <tr>\n",
       "      <th>2416</th>\n",
       "      <td>6.13</td>\n",
       "      <td>24.50</td>\n",
       "      <td>6</td>\n",
       "      <td>0</td>\n",
       "    </tr>\n",
       "    <tr>\n",
       "      <th>2417</th>\n",
       "      <td>6.05</td>\n",
       "      <td>26.31</td>\n",
       "      <td>5</td>\n",
       "      <td>0</td>\n",
       "    </tr>\n",
       "  </tbody>\n",
       "</table>\n",
       "<p>2263 rows × 4 columns</p>\n",
       "</div>"
      ],
      "text/plain": [
       "        ph  temperature  turbinity  label\n",
       "0     6.54        26.94          3      0\n",
       "1     6.59        26.94          3      0\n",
       "2     6.41        26.94          3      0\n",
       "3     6.51        26.94          3      0\n",
       "4     6.40        26.94          3      0\n",
       "...    ...          ...        ...    ...\n",
       "2410  6.08        25.88          6      0\n",
       "2412  6.02        24.75          6      0\n",
       "2415  6.24        25.12          6      0\n",
       "2416  6.13        24.50          6      0\n",
       "2417  6.05        26.31          5      0\n",
       "\n",
       "[2263 rows x 4 columns]"
      ]
     },
     "execution_count": 87,
     "metadata": {},
     "output_type": "execute_result"
    }
   ],
   "source": [
    "# Mencari nilai Q! dan Q3\n",
    "Q1 = data.quantile(0.25)\n",
    "Q3 = data.quantile(0.75)\n",
    "\n",
    "# Menghitung IQR\n",
    "IQR = Q3 - Q1\n",
    "\n",
    "# Menentukan batas atas dan batas bawah (threshold) dengan menggunakan nilai IQR\n",
    "upper_limit = Q3 + 1.5 * IQR\n",
    "lower_limit = Q1 - 1.5 * IQR\n",
    "kolom = ['ph','temperature']\n",
    "# Menggunakan perulangan untuk membersihkan nilai outliers\n",
    "for col in kolom:\n",
    "    data = data[(data[col] >= lower_limit[col]) & (data[col] <= upper_limit[col])]\n",
    "\n",
    "# Menampilkan data setelah nilai outliers dibersihkan\n",
    "data"
   ]
  },
  {
   "cell_type": "code",
   "execution_count": 88,
   "metadata": {},
   "outputs": [
    {
     "data": {
      "image/png": "[encoded data removed]",
      "text/plain": [
       "<Figure size 640x480 with 1 Axes>"
      ]
     },
     "metadata": {},
     "output_type": "display_data"
    },
    {
     "data": {
      "image/png": "[encoded data removed]",
      "text/plain": [
       "<Figure size 640x480 with 1 Axes>"
      ]
     },
     "metadata": {},
     "output_type": "display_data"
    },
    {
     "data": {
      "image/png": "[encoded data removed]",
      "text/plain": [
       "<Figure size 640x480 with 1 Axes>"
      ]
     },
     "metadata": {},
     "output_type": "display_data"
    },
    {
     "data": {
      "image/png": "[encoded data removed]",
      "text/plain": [
       "<Figure size 640x480 with 1 Axes>"
      ]
     },
     "metadata": {},
     "output_type": "display_data"
    }
   ],
   "source": [
    "kolom = ['ph','temperature','turbinity','label']\n",
    "\n",
    "for i in kolom:\n",
    "    plt.boxplot(data[i])\n",
    "    plt.title(\"Boxplot \" + i)\n",
    "    plt.show()"
   ]
  },
  {
   "cell_type": "code",
   "execution_count": 89,
   "metadata": {},
   "outputs": [
    {
     "name": "stdout",
     "output_type": "stream",
     "text": [
      "              precision    recall  f1-score   support\n",
      "\n",
      "           0       1.00      1.00      1.00       223\n",
      "           1       1.00      1.00      1.00       230\n",
      "\n",
      "    accuracy                           1.00       453\n",
      "   macro avg       1.00      1.00      1.00       453\n",
      "weighted avg       1.00      1.00      1.00       453\n",
      "\n"
     ]
    }
   ],
   "source": [
    "from sklearn.ensemble import RandomForestClassifier\n",
    "from sklearn.model_selection import train_test_split\n",
    "from sklearn.metrics import classification_report\n",
    "\n",
    "# Load data\n",
    "# Misalkan data yang digunakan tersimpan dalam variabel X dan target variabel y\n",
    "X = data.drop(['label'],axis=1)\n",
    "y = data['label']\n",
    "# Split data menjadi training dan testing\n",
    "X_train, X_test, y_train, y_test = train_test_split(X, y, test_size=0.2, random_state=42)\n",
    "\n",
    "# Membuat objek model Random Forest\n",
    "rf = RandomForestClassifier()\n",
    "\n",
    "# Melatih model pada data training\n",
    "rf.fit(X_train, y_train)\n",
    "\n",
    "# Memprediksi target variabel pada data testing\n",
    "y_pred = rf.predict(X_test)\n",
    "\n",
    "# Menampilkan laporan klasifikasi\n",
    "print(classification_report(y_test, y_pred))"
   ]
  },
  {
   "cell_type": "code",
   "execution_count": 90,
   "metadata": {},
   "outputs": [
    {
     "name": "stdout",
     "output_type": "stream",
     "text": [
      "              precision    recall  f1-score   support\n",
      "\n",
      "           0       1.00      1.00      1.00       223\n",
      "           1       1.00      1.00      1.00       230\n",
      "\n",
      "    accuracy                           1.00       453\n",
      "   macro avg       1.00      1.00      1.00       453\n",
      "weighted avg       1.00      1.00      1.00       453\n",
      "\n"
     ]
    }
   ],
   "source": [
    "from sklearn.linear_model import LogisticRegression\n",
    "lr = LogisticRegression()\n",
    "lr.fit(X_train, y_train)\n",
    "y_pred = lr.predict(X_test)\n",
    "print(classification_report(y_test, y_pred))"
   ]
  },
  {
   "cell_type": "code",
   "execution_count": 91,
   "metadata": {},
   "outputs": [
    {
     "name": "stdout",
     "output_type": "stream",
     "text": [
      "              precision    recall  f1-score   support\n",
      "\n",
      "           0       1.00      1.00      1.00       223\n",
      "           1       1.00      1.00      1.00       230\n",
      "\n",
      "    accuracy                           1.00       453\n",
      "   macro avg       1.00      1.00      1.00       453\n",
      "weighted avg       1.00      1.00      1.00       453\n",
      "\n"
     ]
    }
   ],
   "source": [
    "from sklearn.tree import DecisionTreeClassifier\n",
    "dtc = DecisionTreeClassifier()\n",
    "dtc.fit(X_train, y_train)\n",
    "y_pred = dtc.predict(X_test)\n",
    "print(classification_report(y_test, y_pred))"
   ]
  },
  {
   "cell_type": "code",
   "execution_count": 92,
   "metadata": {},
   "outputs": [
    {
     "data": {
      "text/plain": [
       "['/myipond/modelss6.pkl']"
      ]
     },
     "execution_count": 92,
     "metadata": {},
     "output_type": "execute_result"
    }
   ],
   "source": [
    "joblib.dump(rf, '/myipond/modelss6.pkl')"
   ]
  },
  {
   "cell_type": "code",
   "execution_count": 93,
   "metadata": {},
   "outputs": [],
   "source": [
    "# from sklearn.svm import SVC\n",
    "# svc = SVC(kernel='linear')\n",
    "# svc.fit(X_train, y_train)\n",
    "# y_pred = svc.predict(X_test)\n",
    "# print(classification_report(y_test, y_pred))"
   ]
  }
 ],
 "metadata": {
  "kernelspec": {
   "display_name": "Python 3.10.8 ('ipond')",
   "language": "python",
   "name": "python3"
  },
  "language_info": {
   "codemirror_mode": {
    "name": "ipython",
    "version": 3
   },
   "file_extension": ".py",
   "mimetype": "text/x-python",
   "name": "python",
   "nbconvert_exporter": "python",
   "pygments_lexer": "ipython3",
   "version": "3.10.8"
  },
  "orig_nbformat": 4,
  "vscode": {
   "interpreter": {
    "hash": "329effbd7a4e53057303031edddea8161cae1019c172499782ed718cada0138f"
   }
  }
 },
 "nbformat": 4,
 "nbformat_minor": 2
}
